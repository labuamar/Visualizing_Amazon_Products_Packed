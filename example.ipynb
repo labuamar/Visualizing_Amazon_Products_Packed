{
 "cells": [
  {
   "cell_type": "code",
   "execution_count": 1,
   "metadata": {},
   "outputs": [],
   "source": [
    "%run ./packer.ipynb"
   ]
  },
  {
   "cell_type": "code",
   "execution_count": 2,
   "metadata": {},
   "outputs": [],
   "source": [
    "import pandas as pd\n",
    "import sys\n",
    "\n",
    "dataframe=pd.read_csv('C:/Users/Ludicrous/Desktop/Data_Portfolio/Visualizing_amazon_products_packed/check.csv')\n",
    "\n"
   ]
  },
  {
   "cell_type": "code",
   "execution_count": 4,
   "metadata": {},
   "outputs": [
    {
     "name": "stdout",
     "output_type": "stream",
     "text": [
      "    Unnamed: 0                                              Title    weight  \\\n",
      "0            0  Minecraft Ultimate Ender Dragon Figure, 20-in ...  897.9300   \n",
      "63          95  LEGO Creator 3in1 Race Car Transporter 31113 B...  298.0402   \n",
      "\n",
      "    length  height  width  id  \n",
      "0    21.65    5.91  19.69   1  \n",
      "63   10.32    7.52   2.40  96  \n",
      "[['1', 21.65, 19.69, 5.91, 897.93], ['96', 10.32, 2.4, 7.52, 298.0402]]\n"
     ]
    }
   ],
   "source": [
    "packer = Packer()\n",
    "\n",
    "packer.add_bin(Bin('small-envelope', 11.5, 6.125, 0.25, 75))\n",
    "packer.add_bin(Bin('large-envelope', 15.0, 12.0, 0.75, 100))\n",
    "packer.add_bin(Bin('small-box', 8.625, 5.375, 5.375, 4535.0))\n",
    "packer.add_bin(Bin('medium-box', 11.0, 8.5, 5.5, 6803.0))\n",
    "packer.add_bin(Bin('medium-2-box', 13.625, 11.875, 3.375, 8809.0))\n",
    "packer.add_bin(Bin('large-box', 15.0, 15.0, 5.5, 10000.0))\n",
    "packer.add_bin(Bin('large-2-box', 25.0, 15.0, 3.0, 20000.0))\n",
    "packer.add_bin(Bin('large-3-box', 35.5, 16.0, 3.0, 40000.0))\n",
    "packer.add_bin(Bin('pallet', 40.0, 48.0, 48.0, 2086525.0))\n",
    "\n",
    "def buy_items(dataframe=dataframe, how_many = 3):\n",
    "    items=dataframe.sample(n=how_many)\n",
    "    print(items)\n",
    "    local=[]\n",
    "    for value in range(how_many):\n",
    "        id_item = str(items.iloc[value]['id'])\n",
    "        length = float(items.iloc[value]['length'])\n",
    "        width= float(items.iloc[value]['width'])\n",
    "        height= float(items.iloc[value]['height'])\n",
    "        weight= float(items.iloc[value]['weight'])\n",
    "        item_des = [id_item, length, width, height, weight]\n",
    "        local.append(item_des)\n",
    "    print(local)\n",
    "\n",
    "    for i in local:\n",
    "        packer.add_item(Item(i[0],length=i[1],width=i[2],height=i[3], weight=i[4]))\n",
    "    return packer\n",
    "\n",
    "buy_items(how_many = 2)\n",
    "\n",
    "sys.stdout = open(\"test_pack_2.txt\",\"w\")\n",
    "stdout_obj = sys.stdout \n",
    "packer.pack()\n",
    "sys.stdout = stdout_obj\n"
   ]
  }
 ],
 "metadata": {
  "interpreter": {
   "hash": "07f157cfe799f9992aa6eae7fa5b966a1bd7109392fbdb4fc77ca3f34952d570"
  },
  "kernelspec": {
   "display_name": "Python 3.8.3 64-bit (system)",
   "name": "python3"
  },
  "language_info": {
   "codemirror_mode": {
    "name": "ipython",
    "version": 3
   },
   "file_extension": ".py",
   "mimetype": "text/x-python",
   "name": "python",
   "nbconvert_exporter": "python",
   "pygments_lexer": "ipython3",
   "version": "3.8.3"
  }
 },
 "nbformat": 4,
 "nbformat_minor": 4
}
